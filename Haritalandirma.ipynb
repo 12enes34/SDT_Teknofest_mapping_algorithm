{
 "cells": [
  {
   "cell_type": "markdown",
   "metadata": {},
   "source": [
    "# NOT"
   ]
  },
  {
   "cell_type": "markdown",
   "metadata": {},
   "source": [
    "lidardan gelen mesafe ve cihazin aci bilgisi ile cihazin konumundan tespit edilen engelin konumu bulunacak\n",
    "\n",
    "\n",
    "eger lidar ile bulamazsak engeli mesafe sensoru ile bulunacak ve bulundugunda veruilen mesafe kadar onune engel olusturulacak (veri veremzse sabit bir deger kadar onune koy)\n",
    "\n",
    "\n",
    "yuk alma birakma alanina geldiginde qr kod verisine gore Haritaya hangi Harf e ait kutucuk gelecek belirlenecek ve o kutucuk haritaya eklenecek"
   ]
  },
  {
   "cell_type": "markdown",
   "metadata": {},
   "source": [
    "# KUTUPHANELER"
   ]
  },
  {
   "cell_type": "code",
   "execution_count": 1,
   "metadata": {},
   "outputs": [],
   "source": [
    "import turtle\n",
    "\n",
    "import os\n",
    "import time\n",
    "from PIL import Image\n",
    "import qrcode\n"
   ]
  },
  {
   "cell_type": "code",
   "execution_count": 2,
   "metadata": {},
   "outputs": [],
   "source": [
    "# Ekran oluşturma\n",
    "screen = turtle.Screen()\n",
    "screen.setup(width=1.0, height=1.0)  # Ekranı tam ekran yapar\n",
    "\n",
    "screen.bgcolor(\"white\")  # Arka plan rengini beyaz yapma\n",
    "screen.title(\"Kare Şeklinde İşaretçi\")\n",
    "\n",
    "last_location       = [0,0]\n",
    "\n",
    "QrCodeLocation      = []\n",
    "BarrierLocation     = []\n",
    "LoadAreaLocation    = []\n",
    "\n",
    "# Kare şeklinde bir işaretçi oluşturma\n",
    "t = turtle.Turtle()\n",
    "t.penup()\n",
    "t.goto(last_location[0],last_location[1])\n",
    "t.pendown()\n",
    "\n",
    "\n",
    "t.shape(\"square\")  # Turtle'ın şeklini kare olarak ayarla\n",
    "t.shapesize(2.5, 2.5)  # Turtle'ın boyutunu 50x50 piksel olarak ayarla (varsayılan boyut 20x20 pikseldir)\n",
    "t.color(\"black\")  # İşaretçinin rengini siyah yap\n"
   ]
  },
  {
   "cell_type": "markdown",
   "metadata": {},
   "source": [
    "# Hareket fonksiyonu"
   ]
  },
  {
   "cell_type": "code",
   "execution_count": 3,
   "metadata": {},
   "outputs": [],
   "source": [
    "# Hareket fonksiyonunu tanımlama\n",
    "def move(x,y):\n",
    "       \n",
    "    \"\"\"Turtle'ı verilen x ve y kadar hareket ettirir.\"\"\"\n",
    "    #t.penup()  # Çizim yapmadan önce kalemi kaldır\n",
    "    last_location[1] += y\n",
    "    t.goto(last_location)  # Verilen koordin\n",
    "     \n",
    "    last_location[0] += x\n",
    "    t.goto(last_location)\n"
   ]
  },
  {
   "cell_type": "markdown",
   "metadata": {},
   "source": [
    "# Engel Çizme"
   ]
  },
  {
   "cell_type": "code",
   "execution_count": 4,
   "metadata": {},
   "outputs": [],
   "source": [
    "\n",
    "def draw_barrier(width=100, height=50, color=\"blue\"):\n",
    "    \"\"\"Belirli bir konumda içi boyalı bir dikdörtgen çizer.\"\"\"\n",
    "    t = turtle.Turtle()\n",
    "    t.hideturtle()\n",
    "    t.penup()\n",
    "    t.goto(last_location)\n",
    "\n",
    "    BarrierLocation.append(([last_location[0],last_location[1]])) \n",
    "\n",
    "\n",
    "    t.pendown()\n",
    "    t.begin_fill()\n",
    "    t.fillcolor(color)\n",
    "\n",
    "    \n",
    "\n",
    "    t.forward(width/2)\n",
    "    t.left(90)\n",
    "    t.forward(-height)\n",
    "    t.left(90)\n",
    "    t.forward(width)\n",
    "    t.left(90)\n",
    "    t.forward(-height)\n",
    "    t.left(90)\n",
    "    t.forward(width/2)\n",
    "        \n",
    "    t.end_fill()"
   ]
  },
  {
   "cell_type": "markdown",
   "metadata": {},
   "source": [
    "# Yükleme Alanı Çizimi"
   ]
  },
  {
   "cell_type": "code",
   "execution_count": 5,
   "metadata": {},
   "outputs": [],
   "source": [
    "\n",
    "def draw_load_area(width=50, height=50, color=\"yellow\"):\n",
    "    \"\"\"Belirli bir konumda içi boyalı bir dikdörtgen çizer.\"\"\"\n",
    "    t = turtle.Turtle()\n",
    "    t.hideturtle()\n",
    "    t.penup()\n",
    "    t.goto(last_location)\n",
    "\n",
    "    LoadAreaLocation.append(([last_location[0],last_location[1]])) \n",
    "\n",
    "\n",
    "    t.pendown()\n",
    "    t.begin_fill()\n",
    "    t.fillcolor(color)\n",
    "\n",
    "    \n",
    "\n",
    "    t.forward(width/2)\n",
    "    t.left(90)\n",
    "    t.forward(-height)\n",
    "    t.left(90)\n",
    "    t.forward(width)\n",
    "    t.left(90)\n",
    "    t.forward(-height)\n",
    "    t.left(90)\n",
    "    t.forward(width/2)\n",
    "        \n",
    "    t.end_fill()"
   ]
  },
  {
   "cell_type": "markdown",
   "metadata": {},
   "source": [
    "# QR kod oluşturma"
   ]
  },
  {
   "cell_type": "code",
   "execution_count": 6,
   "metadata": {},
   "outputs": [],
   "source": [
    "\n",
    "def create_qr_code(data, file_path):\n",
    "    # QR kod objesi oluştur\n",
    "    qr = qrcode.QRCode(\n",
    "        version=1,  # Versiyon numarası (1-40 arası)\n",
    "        error_correction=qrcode.constants.ERROR_CORRECT_L,  # Hata düzeltme seviyesi\n",
    "        box_size=1,  # Her bir kutucuğun boyutu\n",
    "        border=4,  # Kenar boşluğu\n",
    "    )\n",
    "    \n",
    "    # Veriyi ekle\n",
    "    qr.add_data(data)\n",
    "    qr.make(fit=True)\n",
    "    \n",
    "    # QR kodu bir image objesi olarak oluştur\n",
    "    img = qr.make_image(fill='black', back_color='white')\n",
    "    \n",
    "    # Dosyaya kaydet\n",
    "    img.save(file_path)\n",
    "\n",
    "    \n",
    "    \n",
    "# Kullanım örneği\n",
    "data = \"https://www.example.com\"\n",
    "file_path = \"C:/Users/enes_/OneDrive/Masaüstü/Python/SDT(SanayideDigitalTeknolojiler)2024/qrcode.png\"\n",
    "#create_qr_code(data, file_path)"
   ]
  },
  {
   "cell_type": "markdown",
   "metadata": {},
   "source": [
    "# Ekrana Resim yapistirma"
   ]
  },
  {
   "cell_type": "code",
   "execution_count": 7,
   "metadata": {},
   "outputs": [],
   "source": [
    "t3 = turtle.Turtle()\n",
    "# t3.hideturtle()\n",
    "t3.penup()\n",
    "t3.goto(last_location)"
   ]
  },
  {
   "cell_type": "code",
   "execution_count": 8,
   "metadata": {},
   "outputs": [],
   "source": [
    "\n",
    "def draw_image(input_image_path):\n",
    "    output_image_path = input_image_path.rsplit('.', 1)[0] + '.gif'\n",
    "\n",
    "    # Resmi aç ve GIF olarak kaydet\n",
    "    image = Image.open(input_image_path)\n",
    "    image.save(output_image_path, \"GIF\")\n",
    "\n",
    "    # Dosyanın gerçekten oluşturulduğunu kontrol edin\n",
    "    if not os.path.exists(output_image_path):\n",
    "        raise FileNotFoundError(f\"Converted file not found: {output_image_path}\")\n",
    "    \n",
    "\n",
    "    # Tam dosya yolunu kullanarak GIF resmini turtle kütüphanesine tanıt\n",
    "    absolute_path = os.path.abspath(output_image_path)\n",
    "    screen.addshape(absolute_path)\n",
    "    QrCodeLocation.append((absolute_path,[last_location[0],last_location[1]])) # tekrar da sikinti olammais icin ekleniyor\n",
    "    # Turtle nesnesini oluştur\n",
    "\n",
    "    # planiim her qr in konumunu kaydet ve her yeni qr cagrildiginda tum qr lari tekrar ekrana ciz\n",
    "    \n",
    "    # Animasyonu kapat\n",
    "    screen.tracer(0)\n",
    "\n",
    "    for i in QrCodeLocation:\n",
    "        \n",
    "        t3.shape(i[0])\n",
    "        t3.goto(i[1])\n",
    "        t3.stamp()\n",
    "        \n",
    "    screen.update()\n",
    "    screen.tracer(1)"
   ]
  },
  {
   "cell_type": "markdown",
   "metadata": {},
   "source": [
    "# Yol Çizimi"
   ]
  },
  {
   "cell_type": "markdown",
   "metadata": {},
   "source": [
    "# Genel Senaryo (test)"
   ]
  },
  {
   "cell_type": "code",
   "execution_count": 11,
   "metadata": {},
   "outputs": [
    {
     "ename": "",
     "evalue": "",
     "output_type": "error",
     "traceback": [
      "\u001b[1;31mThe Kernel crashed while executing code in the current cell or a previous cell. \n",
      "\u001b[1;31mPlease review the code in the cell(s) to identify a possible cause of the failure. \n",
      "\u001b[1;31mClick <a href='https://aka.ms/vscodeJupyterKernelCrash'>here</a> for more info. \n",
      "\u001b[1;31mView Jupyter <a href='command:jupyter.viewOutput'>log</a> for further details."
     ]
    }
   ],
   "source": [
    "\n",
    "\n",
    "# verılen yer degıstırmeye gore yol alıyor\n",
    "\n",
    "\n",
    "\n",
    "\n",
    "move(0,400)\n",
    "\n",
    "move(300,0)\n",
    "\n",
    "#yuk alma alanina gidis\n",
    "\n",
    "move(0,-300)\n",
    "create_qr_code(data, file_path)\n",
    "draw_image(file_path)\n",
    "move(0,-100)\n",
    "\n",
    "#draw_load_area()\n",
    "draw_image('engel.png')\n",
    "\n",
    "move(0,-100)\n",
    "create_qr_code(data, file_path)\n",
    "draw_image(file_path)\n",
    "move(0,-300)\n",
    "\n",
    "move(-300,0)\n",
    "\n",
    "move(0, 400)\n",
    "\n",
    "move(0,400)\n",
    "\n",
    "move(300,0)\n",
    "\n",
    "\n",
    "\n",
    "move(300,0)\n",
    "\n",
    "\n",
    "\n",
    "move(0,-300)\n",
    "\n",
    "create_qr_code(data, file_path)\n",
    "draw_image(file_path)\n",
    "\n",
    "move(0,-100)\n",
    "\n",
    "draw_barrier()\n",
    "\n",
    "move(0,-100)\n",
    "\n",
    "create_qr_code(data, file_path)\n",
    "draw_image(file_path)\n",
    "\n",
    "move(0,-300)\n",
    "\n",
    "move(-300,0)\n",
    "\n",
    "move(-300,0)\n",
    "\n",
    "move(0,400)\n",
    "\n",
    "\n",
    "\n",
    "#move(x,y)\n",
    "\n",
    "\n",
    "\n",
    "\n",
    "\n",
    "#qr eklenecek engel yerine ve ciahz yerine resim konacak\n",
    "\n",
    "move(0,400)\n",
    "\n",
    "move(-300,0)\n",
    "\n",
    "#yuk alma alanina gidis\n",
    "\n",
    "move(0,-400)\n",
    "\n",
    "draw_load_area()\n",
    "\n",
    "move(0,-400)\n",
    "\n",
    "move(300,0)\n",
    "\n",
    "move(0, 400)\n",
    "\n",
    "move(0,400)\n",
    "\n",
    "move(-300,0)\n",
    "\n",
    "\n",
    "\n",
    "move(-300,0)\n",
    "\n",
    "move(0,-400)\n",
    "\n",
    "draw_barrier()\n",
    "\n",
    "move(0,-400)\n",
    "\n",
    "move(300,0)\n",
    "\n",
    "move(300,0)\n",
    "\n",
    "move(0,400)\n",
    "\n",
    "\n",
    "print(QrCodeLocation)\n",
    "print('*'*100)\n",
    "print(LoadAreaLocation)\n",
    "print('*'*100)\n",
    "print(BarrierLocation)"
   ]
  }
 ],
 "metadata": {
  "kernelspec": {
   "display_name": "Python 3",
   "language": "python",
   "name": "python3"
  },
  "language_info": {
   "codemirror_mode": {
    "name": "ipython",
    "version": 3
   },
   "file_extension": ".py",
   "mimetype": "text/x-python",
   "name": "python",
   "nbconvert_exporter": "python",
   "pygments_lexer": "ipython3",
   "version": "3.12.2"
  }
 },
 "nbformat": 4,
 "nbformat_minor": 2
}
